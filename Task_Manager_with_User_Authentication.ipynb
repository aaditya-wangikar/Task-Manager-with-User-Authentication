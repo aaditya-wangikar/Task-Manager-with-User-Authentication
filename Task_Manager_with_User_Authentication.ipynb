{
 "cells": [
  {
   "cell_type": "markdown",
   "id": "f9fd3f47-17ec-4d12-a2a6-847cb7c796aa",
   "metadata": {},
   "source": [
    "# Task manager with user authentication"
   ]
  },
  {
   "cell_type": "markdown",
   "id": "67de0173-3da1-4cf6-b6d8-98796b23f90e",
   "metadata": {},
   "source": [
    "## Problem statement:\n",
    "In today’s world, individuals often need to keep track of various tasks in a structured\r\n",
    "way. You are tasked with building a Task Manager that allows users to manage their\r\n",
    "tasks. The system should include user authentication, meaning each user has to log\r\n",
    "in with a username and password. Once logged in, users can create, view, update,\r\n",
    "and delete their tasks. Each user’s tasks should be stored separately, and only the\r\n",
    "authenticated user can access their tsks.\r"
   ]
  },
  {
   "cell_type": "markdown",
   "id": "58ce8d48-2a44-4657-bd98-adb1306e7183",
   "metadata": {},
   "source": [
    "## Objectives\n",
    "1. Design and implement a user authentication system (login and registration)\n",
    "2. Create a task management system that allows users to add, view, mark as complete, and delete tasks\n",
    "3. Use file handling to store user credentials and tasks persistently\n",
    "4. Create an interactive menu-driven interface to manage tasks"
   ]
  },
  {
   "cell_type": "markdown",
   "id": "77c749fc-2b7b-4cbb-962d-d33761d8cdc3",
   "metadata": {},
   "source": [
    "### 1. User authentication\n",
    "#### Registration\n",
    "- Function to prompt the user to enter a username and password. Ensure that the username is unique, and hash the password for\n",
    "security before storing it in a file"
   ]
  },
  {
   "cell_type": "code",
   "execution_count": 311,
   "id": "ed003415-cfa9-49f2-b0cb-0d569bad8cf7",
   "metadata": {},
   "outputs": [],
   "source": [
    "import hashlib\n",
    "def user_registration():\n",
    "    print('Adding user credentials...')\n",
    "    username = input('Enter a username: ')\n",
    "    password = input('Enter a password: ')\n",
    "\n",
    "    # Check if user is already registered\n",
    "    try:\n",
    "        with open('taskmanager_user_credentials.txt','r') as file:\n",
    "            for line in file:\n",
    "                stored_usrname, stored_pwd = line.strip().split(',')\n",
    "                if stored_usrname == username:\n",
    "                    print(\"User already registered!\")\n",
    "                    return None\n",
    "    except:\n",
    "        pass\n",
    "    \n",
    "    # Hash the password\n",
    "    hashed_password = hashlib.sha256(password.encode()).hexdigest()\n",
    "    # Store credentials in a file\n",
    "    with open('taskmanager_user_credentials.txt','a') as file:\n",
    "        file.write(f\"{username}, {hashed_password} \\n\")\n",
    "    print('Registration successful!')\n",
    "    "
   ]
  },
  {
   "cell_type": "markdown",
   "id": "8977e03a-ef2d-4826-987e-0f990ecde4f4",
   "metadata": {},
   "source": [
    "#### Login\n",
    "- Function to prompt the user for their username and\r\n",
    "password, validate the credentials by comparing them with the stored\r\n",
    "data, and grant access to the task manager upon successful login"
   ]
  },
  {
   "cell_type": "code",
   "execution_count": 314,
   "id": "1a45824c-e4ac-448e-b8fa-1ae7c9196377",
   "metadata": {},
   "outputs": [],
   "source": [
    "import pdb\n",
    "def user_login():\n",
    "    print(\"Logging in...\")\n",
    "    username = input('Enter your username: ')\n",
    "    password = input('Enter your password: ')\n",
    "    # Hash the password\n",
    "    hashed_password = hashlib.sha256(password.encode()).hexdigest() \n",
    "    # Verify credentials\n",
    "    try:\n",
    "        with open('taskmanager_user_credentials.txt','r') as file:\n",
    "            for line in file:\n",
    "                stored_usrname, stored_pwd = line.strip().split(',')\n",
    "                if stored_usrname == username and stored_pwd == ' '+ hashed_password :\n",
    "                    print(\"Login sussessful!\")\n",
    "                    return True, username\n",
    "        print(\"Invalid credentials, please try again!\")\n",
    "    except:\n",
    "        print('No users registered!')\n",
    "    return False, None"
   ]
  },
  {
   "cell_type": "markdown",
   "id": "8c9b7834-4b94-4f33-9f09-c2d084f38dc8",
   "metadata": {},
   "source": [
    "### 2. Add a Task\n",
    "- Function that prompts the user for a task description. Assign a \n",
    "unique task ID and set the status to Pending.\n",
    "- Stores the task in a file, and confirm that the task was addedg"
   ]
  },
  {
   "cell_type": "code",
   "execution_count": 317,
   "id": "8d4ba928-409c-499e-8266-003ad3bba12a",
   "metadata": {},
   "outputs": [],
   "source": [
    "def add_task(username):\n",
    "    print(f\"Adding {username}'s task...\")\n",
    "    task = input(\"Enter task description: \")\n",
    "    with open(f'tasks_{username}.txt','a') as file:\n",
    "        task_id = 1\n",
    "        for line in open(f'tasks_{username}.txt'):\n",
    "            task_id+=1\n",
    "        file.write(f\"{task_id},{task},Pending\\n\")\n",
    "    print('Task added sussessfully')"
   ]
  },
  {
   "cell_type": "markdown",
   "id": "b3ca1e21-3ca3-49e3-88b6-304d7eea332c",
   "metadata": {},
   "source": [
    "### 3. View task\n",
    "- Function to retrieve and display all tasks for the logged-in user.\n",
    "- Each task should show the task ID, description, and status (Pending or \n",
    "Completed)"
   ]
  },
  {
   "cell_type": "code",
   "execution_count": 320,
   "id": "8cb3ec96-65a5-4eec-bfe5-b6189690c4a8",
   "metadata": {},
   "outputs": [],
   "source": [
    "def view_task(username):\n",
    "    print(f\"Viewing {username}'s tasks...\")\n",
    "    try:\n",
    "        with open(f'tasks_{username}.txt','r') as file:\n",
    "            for line in file:\n",
    "                task_id, task, status = line.strip().split(',')\n",
    "                print(f\"Task ID: {task_id},\\n Task: {task},\\n Status: {status}\")\n",
    "    except FileNotFoundError:\n",
    "        print(f\"{username}'s' tasks are not available! Please add tasks.\")\n",
    "        "
   ]
  },
  {
   "cell_type": "markdown",
   "id": "7c27a781-475e-4b49-a080-3cd88246f7d7",
   "metadata": {},
   "source": [
    "# 4. Mark task as completed\n",
    "- Function that allows the user to select a task by its ID and update its status to completed"
   ]
  },
  {
   "cell_type": "code",
   "execution_count": 323,
   "id": "a4ecb913-1abe-4c4f-a3c8-1c7a810b84a3",
   "metadata": {},
   "outputs": [],
   "source": [
    "def mark_completed(username):\n",
    "    print(f\"Marking {username}'s task as complete...\")\n",
    "    task_id = input(\"Enter the task ID to mark it as complete\")\n",
    "    tasks = []\n",
    "    try:\n",
    "        with open(f'tasks_{username}.txt','r') as file:\n",
    "            for line in file:\n",
    "                task_id_task_manager, task, status = line.strip().split(',')\n",
    "                if task_id_task_manager == task_id:\n",
    "                    status = 'Completed'\n",
    "                    tasks.append(f\"{task_id_task_manager},{task},{status}\")\n",
    "        with open(f'tasks_{username}.txt','w') as file:\n",
    "            for task in tasks:\n",
    "                file.write(task +'\\n')\n",
    "        print(\"Task marked as completed.\")\n",
    "    except FileNotFoundError:\n",
    "        print(f\"{username}'s' tasks are not available! Please add tasks.\")"
   ]
  },
  {
   "cell_type": "markdown",
   "id": "d57f0b25-c9cd-4add-915b-3397f0977dce",
   "metadata": {},
   "source": [
    "### 5. Delete task\n",
    "- Function that allows the user to select a task by its ID and delete\n",
    "it from their task list"
   ]
  },
  {
   "cell_type": "code",
   "execution_count": 326,
   "id": "82fc8fb6-48a6-41d9-ad89-daefac05d512",
   "metadata": {},
   "outputs": [],
   "source": [
    "def delete_task(username):\n",
    "    print(\"Deleting task...\")\n",
    "    print(f\"Marking {username}'s task as deleted...\")\n",
    "    task_id = input(\"Enter the task ID to delete\")\n",
    "    tasks = []\n",
    "    try:\n",
    "        with open(f'tasks_{username}.txt','r') as file:\n",
    "            for line in file:\n",
    "                task_id_task_manager, task, status = line.strip().split(',')\n",
    "                if task_id_task_manager != task_id:\n",
    "                    tasks.append(f\"{task_id_task_manager},{task},{status}\")\n",
    "        with open(f'tasks_{username}.txt','w') as file:\n",
    "            for task in tasks:\n",
    "                file.write(task +'\\n')\n",
    "        print(\"Task deleted.\")\n",
    "    except FileNotFoundError:\n",
    "        print(f\"{username}'s' tasks are not available! Please add tasks.\")"
   ]
  },
  {
   "cell_type": "markdown",
   "id": "d5a5b3e1-02a6-48ec-9b75-ad78b1a9d40d",
   "metadata": {},
   "source": [
    "### 6. User choice\n",
    "- Build a menu that allows users to choose between:\n",
    "1. Add task\n",
    "2. View task\n",
    "3. Mark task as completed\n",
    "4. Delete task\n",
    "5. Logout"
   ]
  },
  {
   "cell_type": "code",
   "execution_count": 329,
   "id": "cc8aa0cb-bd2e-43cc-b271-5159b13af60e",
   "metadata": {},
   "outputs": [],
   "source": [
    "def task_manager_menu(username):\n",
    "    \"\"\"\n",
    "    Function to display a user choice\n",
    "    \"\"\"\n",
    "    while True:\n",
    "        print(\"\"\"\n",
    "        1. Add task\n",
    "        2. View task\n",
    "        3. Mark task as completed\n",
    "        4. Delete task\n",
    "        5. Logout\n",
    "        \"\"\")\n",
    "        task = int(input(\"\"\"Enter your task: \"\"\"))\n",
    "        if task ==1:\n",
    "            add_task(username)\n",
    "        elif task==2:\n",
    "            view_task(username)\n",
    "        elif task==3:\n",
    "            mark_completed(username)\n",
    "        elif task==4:\n",
    "            delete_task(username)\n",
    "        elif task==5:\n",
    "            print('Logging out...')\n",
    "            break\n",
    "        else:\n",
    "            print('Enter the valid task to perform!')\n",
    "        \n",
    "    return task"
   ]
  },
  {
   "cell_type": "markdown",
   "id": "e178651e-2ebe-4b37-923e-7f93a96b0916",
   "metadata": {},
   "source": [
    "## Interactive menu"
   ]
  },
  {
   "cell_type": "code",
   "execution_count": 332,
   "id": "99dfe147-5000-453b-abe6-5308530bc7c9",
   "metadata": {},
   "outputs": [
    {
     "name": "stdout",
     "output_type": "stream",
     "text": [
      "\n",
      "        1. Register\n",
      "        2. Login\n",
      "        3. Exit\n",
      "        \n"
     ]
    },
    {
     "name": "stdin",
     "output_type": "stream",
     "text": [
      "Enter your choice 2\n"
     ]
    },
    {
     "name": "stdout",
     "output_type": "stream",
     "text": [
      "Logging in...\n"
     ]
    },
    {
     "name": "stdin",
     "output_type": "stream",
     "text": [
      "Enter your username:  admin\n",
      "Enter your password:  1234\n"
     ]
    },
    {
     "name": "stdout",
     "output_type": "stream",
     "text": [
      "No users registered!\n",
      "\n",
      "        1. Register\n",
      "        2. Login\n",
      "        3. Exit\n",
      "        \n"
     ]
    },
    {
     "name": "stdin",
     "output_type": "stream",
     "text": [
      "Enter your choice 1\n"
     ]
    },
    {
     "name": "stdout",
     "output_type": "stream",
     "text": [
      "Adding user credentials...\n"
     ]
    },
    {
     "name": "stdin",
     "output_type": "stream",
     "text": [
      "Enter a username:  admin\n",
      "Enter a password:  admin@123\n"
     ]
    },
    {
     "name": "stdout",
     "output_type": "stream",
     "text": [
      "Registration successful!\n",
      "\n",
      "        1. Register\n",
      "        2. Login\n",
      "        3. Exit\n",
      "        \n"
     ]
    },
    {
     "name": "stdin",
     "output_type": "stream",
     "text": [
      "Enter your choice 2\n"
     ]
    },
    {
     "name": "stdout",
     "output_type": "stream",
     "text": [
      "Logging in...\n"
     ]
    },
    {
     "name": "stdin",
     "output_type": "stream",
     "text": [
      "Enter your username:  admin\n",
      "Enter your password:  i dont know\n"
     ]
    },
    {
     "name": "stdout",
     "output_type": "stream",
     "text": [
      "Invalid credentials, please try again!\n",
      "\n",
      "        1. Register\n",
      "        2. Login\n",
      "        3. Exit\n",
      "        \n"
     ]
    },
    {
     "name": "stdin",
     "output_type": "stream",
     "text": [
      "Enter your choice 2\n"
     ]
    },
    {
     "name": "stdout",
     "output_type": "stream",
     "text": [
      "Logging in...\n"
     ]
    },
    {
     "name": "stdin",
     "output_type": "stream",
     "text": [
      "Enter your username:  admin\n",
      "Enter your password:  admin@123\n"
     ]
    },
    {
     "name": "stdout",
     "output_type": "stream",
     "text": [
      "Login sussessful!\n",
      "\n",
      "        1. Add task\n",
      "        2. View task\n",
      "        3. Mark task as completed\n",
      "        4. Delete task\n",
      "        5. Logout\n",
      "        \n"
     ]
    },
    {
     "name": "stdin",
     "output_type": "stream",
     "text": [
      "Enter your task:  2\n"
     ]
    },
    {
     "name": "stdout",
     "output_type": "stream",
     "text": [
      "Viewing admin's tasks...\n",
      "admin's' tasks are not available! Please add tasks.\n",
      "\n",
      "        1. Add task\n",
      "        2. View task\n",
      "        3. Mark task as completed\n",
      "        4. Delete task\n",
      "        5. Logout\n",
      "        \n"
     ]
    },
    {
     "name": "stdin",
     "output_type": "stream",
     "text": [
      "Enter your task:  1\n"
     ]
    },
    {
     "name": "stdout",
     "output_type": "stream",
     "text": [
      "Adding admin's task...\n"
     ]
    },
    {
     "name": "stdin",
     "output_type": "stream",
     "text": [
      "Enter task description:  Write a python code\n"
     ]
    },
    {
     "name": "stdout",
     "output_type": "stream",
     "text": [
      "Task added sussessfully\n",
      "\n",
      "        1. Add task\n",
      "        2. View task\n",
      "        3. Mark task as completed\n",
      "        4. Delete task\n",
      "        5. Logout\n",
      "        \n"
     ]
    },
    {
     "name": "stdin",
     "output_type": "stream",
     "text": [
      "Enter your task:  2\n"
     ]
    },
    {
     "name": "stdout",
     "output_type": "stream",
     "text": [
      "Viewing admin's tasks...\n",
      "Task ID: 1\n",
      ", Task: Write a python code\n",
      ", Status: Pending\n",
      "\n",
      "        1. Add task\n",
      "        2. View task\n",
      "        3. Mark task as completed\n",
      "        4. Delete task\n",
      "        5. Logout\n",
      "        \n"
     ]
    },
    {
     "name": "stdin",
     "output_type": "stream",
     "text": [
      "Enter your task:  1\n"
     ]
    },
    {
     "name": "stdout",
     "output_type": "stream",
     "text": [
      "Adding admin's task...\n"
     ]
    },
    {
     "name": "stdin",
     "output_type": "stream",
     "text": [
      "Enter task description:  Complete the code\n"
     ]
    },
    {
     "name": "stdout",
     "output_type": "stream",
     "text": [
      "Task added sussessfully\n",
      "\n",
      "        1. Add task\n",
      "        2. View task\n",
      "        3. Mark task as completed\n",
      "        4. Delete task\n",
      "        5. Logout\n",
      "        \n"
     ]
    },
    {
     "name": "stdin",
     "output_type": "stream",
     "text": [
      "Enter your task:  2\n"
     ]
    },
    {
     "name": "stdout",
     "output_type": "stream",
     "text": [
      "Viewing admin's tasks...\n",
      "Task ID: 1\n",
      ", Task: Write a python code\n",
      ", Status: Pending\n",
      "Task ID: 2\n",
      ", Task: Complete the code\n",
      ", Status: Pending\n",
      "\n",
      "        1. Add task\n",
      "        2. View task\n",
      "        3. Mark task as completed\n",
      "        4. Delete task\n",
      "        5. Logout\n",
      "        \n"
     ]
    },
    {
     "name": "stdin",
     "output_type": "stream",
     "text": [
      "Enter your task:  1\n"
     ]
    },
    {
     "name": "stdout",
     "output_type": "stream",
     "text": [
      "Adding admin's task...\n"
     ]
    },
    {
     "name": "stdin",
     "output_type": "stream",
     "text": [
      "Enter task description:  Submit the code\n"
     ]
    },
    {
     "name": "stdout",
     "output_type": "stream",
     "text": [
      "Task added sussessfully\n",
      "\n",
      "        1. Add task\n",
      "        2. View task\n",
      "        3. Mark task as completed\n",
      "        4. Delete task\n",
      "        5. Logout\n",
      "        \n"
     ]
    },
    {
     "name": "stdin",
     "output_type": "stream",
     "text": [
      "Enter your task:  3\n"
     ]
    },
    {
     "name": "stdout",
     "output_type": "stream",
     "text": [
      "Marking admin's task as complete...\n"
     ]
    },
    {
     "name": "stdin",
     "output_type": "stream",
     "text": [
      "Enter the task ID to mark it as complete 1\n"
     ]
    },
    {
     "name": "stdout",
     "output_type": "stream",
     "text": [
      "Task marked as completed.\n",
      "\n",
      "        1. Add task\n",
      "        2. View task\n",
      "        3. Mark task as completed\n",
      "        4. Delete task\n",
      "        5. Logout\n",
      "        \n"
     ]
    },
    {
     "name": "stdin",
     "output_type": "stream",
     "text": [
      "Enter your task:  2\n"
     ]
    },
    {
     "name": "stdout",
     "output_type": "stream",
     "text": [
      "Viewing admin's tasks...\n",
      "Task ID: 1\n",
      ", Task: Write a python code\n",
      ", Status: Completed\n",
      "\n",
      "        1. Add task\n",
      "        2. View task\n",
      "        3. Mark task as completed\n",
      "        4. Delete task\n",
      "        5. Logout\n",
      "        \n"
     ]
    },
    {
     "name": "stdin",
     "output_type": "stream",
     "text": [
      "Enter your task:  2\n"
     ]
    },
    {
     "name": "stdout",
     "output_type": "stream",
     "text": [
      "Viewing admin's tasks...\n",
      "Task ID: 1\n",
      ", Task: Write a python code\n",
      ", Status: Completed\n",
      "\n",
      "        1. Add task\n",
      "        2. View task\n",
      "        3. Mark task as completed\n",
      "        4. Delete task\n",
      "        5. Logout\n",
      "        \n"
     ]
    },
    {
     "name": "stdin",
     "output_type": "stream",
     "text": [
      "Enter your task:  2\n"
     ]
    },
    {
     "name": "stdout",
     "output_type": "stream",
     "text": [
      "Viewing admin's tasks...\n",
      "Task ID: 1\n",
      ", Task: Write a python code\n",
      ", Status: Completed\n",
      "\n",
      "        1. Add task\n",
      "        2. View task\n",
      "        3. Mark task as completed\n",
      "        4. Delete task\n",
      "        5. Logout\n",
      "        \n"
     ]
    },
    {
     "name": "stdin",
     "output_type": "stream",
     "text": [
      "Enter your task:  1\n"
     ]
    },
    {
     "name": "stdout",
     "output_type": "stream",
     "text": [
      "Adding admin's task...\n"
     ]
    },
    {
     "name": "stdin",
     "output_type": "stream",
     "text": [
      "Enter task description:  Add a task\n"
     ]
    },
    {
     "name": "stdout",
     "output_type": "stream",
     "text": [
      "Task added sussessfully\n",
      "\n",
      "        1. Add task\n",
      "        2. View task\n",
      "        3. Mark task as completed\n",
      "        4. Delete task\n",
      "        5. Logout\n",
      "        \n"
     ]
    },
    {
     "name": "stdin",
     "output_type": "stream",
     "text": [
      "Enter your task:  2\n"
     ]
    },
    {
     "name": "stdout",
     "output_type": "stream",
     "text": [
      "Viewing admin's tasks...\n",
      "Task ID: 1\n",
      ", Task: Write a python code\n",
      ", Status: Completed\n",
      "Task ID: 2\n",
      ", Task: Add a task\n",
      ", Status: Pending\n",
      "\n",
      "        1. Add task\n",
      "        2. View task\n",
      "        3. Mark task as completed\n",
      "        4. Delete task\n",
      "        5. Logout\n",
      "        \n"
     ]
    },
    {
     "name": "stdin",
     "output_type": "stream",
     "text": [
      "Enter your task:  3\n"
     ]
    },
    {
     "name": "stdout",
     "output_type": "stream",
     "text": [
      "Marking admin's task as complete...\n"
     ]
    },
    {
     "name": "stdin",
     "output_type": "stream",
     "text": [
      "Enter the task ID to mark it as complete 1\n"
     ]
    },
    {
     "name": "stdout",
     "output_type": "stream",
     "text": [
      "Task marked as completed.\n",
      "\n",
      "        1. Add task\n",
      "        2. View task\n",
      "        3. Mark task as completed\n",
      "        4. Delete task\n",
      "        5. Logout\n",
      "        \n"
     ]
    },
    {
     "name": "stdin",
     "output_type": "stream",
     "text": [
      "Enter your task:  2\n"
     ]
    },
    {
     "name": "stdout",
     "output_type": "stream",
     "text": [
      "Viewing admin's tasks...\n",
      "Task ID: 1\n",
      ", Task: Write a python code\n",
      ", Status: Completed\n",
      "\n",
      "        1. Add task\n",
      "        2. View task\n",
      "        3. Mark task as completed\n",
      "        4. Delete task\n",
      "        5. Logout\n",
      "        \n"
     ]
    },
    {
     "name": "stdin",
     "output_type": "stream",
     "text": [
      "Enter your task:  2\n"
     ]
    },
    {
     "name": "stdout",
     "output_type": "stream",
     "text": [
      "Viewing admin's tasks...\n",
      "Task ID: 1\n",
      ", Task: Write a python code\n",
      ", Status: Completed\n",
      "\n",
      "        1. Add task\n",
      "        2. View task\n",
      "        3. Mark task as completed\n",
      "        4. Delete task\n",
      "        5. Logout\n",
      "        \n"
     ]
    },
    {
     "name": "stdin",
     "output_type": "stream",
     "text": [
      "Enter your task:  4\n"
     ]
    },
    {
     "name": "stdout",
     "output_type": "stream",
     "text": [
      "Deleting task...\n",
      "Marking admin's task as deleted...\n"
     ]
    },
    {
     "name": "stdin",
     "output_type": "stream",
     "text": [
      "Enter the task ID to delete 2\n"
     ]
    },
    {
     "name": "stdout",
     "output_type": "stream",
     "text": [
      "Task deleted.\n",
      "\n",
      "        1. Add task\n",
      "        2. View task\n",
      "        3. Mark task as completed\n",
      "        4. Delete task\n",
      "        5. Logout\n",
      "        \n"
     ]
    },
    {
     "name": "stdin",
     "output_type": "stream",
     "text": [
      "Enter your task:  2\n"
     ]
    },
    {
     "name": "stdout",
     "output_type": "stream",
     "text": [
      "Viewing admin's tasks...\n",
      "Task ID: 1\n",
      ", Task: Write a python code\n",
      ", Status: Completed\n",
      "\n",
      "        1. Add task\n",
      "        2. View task\n",
      "        3. Mark task as completed\n",
      "        4. Delete task\n",
      "        5. Logout\n",
      "        \n"
     ]
    },
    {
     "name": "stdin",
     "output_type": "stream",
     "text": [
      "Enter your task:  5\n"
     ]
    },
    {
     "name": "stdout",
     "output_type": "stream",
     "text": [
      "Logging out...\n",
      "\n",
      "        1. Register\n",
      "        2. Login\n",
      "        3. Exit\n",
      "        \n"
     ]
    },
    {
     "name": "stdin",
     "output_type": "stream",
     "text": [
      "Enter your choice 3\n"
     ]
    },
    {
     "name": "stdout",
     "output_type": "stream",
     "text": [
      "Exiting the program\n"
     ]
    }
   ],
   "source": [
    "def main():\n",
    "    # Interactive menu until the user exits. \n",
    "    while True:\n",
    "        print(\"\"\"\n",
    "        1. Register\n",
    "        2. Login\n",
    "        3. Exit\n",
    "        \"\"\")\n",
    "        choice = input(\"Enter your choice\")\n",
    "\n",
    "        if choice == '1':\n",
    "            user_registration()\n",
    "        elif choice == '2':\n",
    "            loggedIn, username = user_login()\n",
    "            if loggedIn:\n",
    "                task_manager_menu(username)\n",
    "        elif choice == '3':\n",
    "            print(\"Exiting the program\")\n",
    "            break\n",
    "        else:\n",
    "            print(\"Invalid choice\")\n",
    "        \n",
    "\n",
    "# Run the main function\n",
    "main()"
   ]
  },
  {
   "cell_type": "code",
   "execution_count": null,
   "id": "c6b0cdab-b796-4f66-8e9e-f29206c32045",
   "metadata": {},
   "outputs": [],
   "source": []
  }
 ],
 "metadata": {
  "kernelspec": {
   "display_name": "Python 3 (ipykernel)",
   "language": "python",
   "name": "python3"
  },
  "language_info": {
   "codemirror_mode": {
    "name": "ipython",
    "version": 3
   },
   "file_extension": ".py",
   "mimetype": "text/x-python",
   "name": "python",
   "nbconvert_exporter": "python",
   "pygments_lexer": "ipython3",
   "version": "3.12.4"
  }
 },
 "nbformat": 4,
 "nbformat_minor": 5
}
